{
  "nbformat": 4,
  "nbformat_minor": 0,
  "metadata": {
    "colab": {
      "provenance": [],
      "authorship_tag": "ABX9TyN1HE5DVuBfyEI9GbLCVESy",
      "include_colab_link": true
    },
    "kernelspec": {
      "name": "python3",
      "display_name": "Python 3"
    },
    "language_info": {
      "name": "python"
    }
  },
  "cells": [
    {
      "cell_type": "markdown",
      "metadata": {
        "id": "view-in-github",
        "colab_type": "text"
      },
      "source": [
        "<a href=\"https://colab.research.google.com/github/ShivaniSingh12219767/Python/blob/main/Foundation_Of_ML.ipynb\" target=\"_parent\"><img src=\"https://colab.research.google.com/assets/colab-badge.svg\" alt=\"Open In Colab\"/></a>"
      ]
    },
    {
      "cell_type": "code",
      "source": [
        "import numpy as np\n",
        "# Matrix inverse\n",
        "A = np.array([[1,2,1],\n",
        " [4,4,5],\n",
        "  [6,7,7]])\n",
        "A_inverse = np.linalg.inv(A)  # If inverse is not valid then it will give error\n",
        "print(A_inverse)"
      ],
      "metadata": {
        "colab": {
          "base_uri": "https://localhost:8080/"
        },
        "id": "6zvW1YwiXGTu",
        "outputId": "79a98c39-c4fa-4a0c-8164-77de621c3102"
      },
      "execution_count": null,
      "outputs": [
        {
          "output_type": "stream",
          "name": "stdout",
          "text": [
            "[[-7. -7.  6.]\n",
            " [ 2.  1. -1.]\n",
            " [ 4.  5. -4.]]\n"
          ]
        }
      ]
    },
    {
      "cell_type": "code",
      "source": [],
      "metadata": {
        "id": "W0cFesaletd2"
      },
      "execution_count": null,
      "outputs": []
    },
    {
      "cell_type": "code",
      "source": [
        "I = A_inverse @ A   # Dot Product\n",
        "np.round(I)"
      ],
      "metadata": {
        "colab": {
          "base_uri": "https://localhost:8080/"
        },
        "id": "BexiRu0oaNcP",
        "outputId": "21337db7-4eeb-4f0f-a8b9-94db29eefcbf"
      },
      "execution_count": null,
      "outputs": [
        {
          "output_type": "execute_result",
          "data": {
            "text/plain": [
              "array([[ 1.,  0.,  0.],\n",
              "       [ 0.,  1., -0.],\n",
              "       [ 0., -0.,  1.]])"
            ]
          },
          "metadata": {},
          "execution_count": 5
        }
      ]
    },
    {
      "cell_type": "code",
      "source": [
        "# Matrix Transpose\n",
        "A = np.array([[1,2],\n",
        "              [3,4],[5,6]])\n"
      ],
      "metadata": {
        "id": "e4oEQUHXacLT"
      },
      "execution_count": null,
      "outputs": []
    },
    {
      "cell_type": "code",
      "source": [
        "A.shape"
      ],
      "metadata": {
        "colab": {
          "base_uri": "https://localhost:8080/"
        },
        "id": "vcRafsWKaxz6",
        "outputId": "ed875fa6-0fed-4fe4-8e27-df56768f6897"
      },
      "execution_count": null,
      "outputs": [
        {
          "output_type": "execute_result",
          "data": {
            "text/plain": [
              "(3, 2)"
            ]
          },
          "metadata": {},
          "execution_count": 9
        }
      ]
    },
    {
      "cell_type": "code",
      "source": [
        "mat_transpose = A.T\n",
        "mat_transpose"
      ],
      "metadata": {
        "colab": {
          "base_uri": "https://localhost:8080/"
        },
        "id": "U5Yv8nsya3-3",
        "outputId": "46ce3eb9-4fe3-4947-fe28-7a6c1b54cb09"
      },
      "execution_count": null,
      "outputs": [
        {
          "output_type": "execute_result",
          "data": {
            "text/plain": [
              "array([[1, 3, 5],\n",
              "       [2, 4, 6]])"
            ]
          },
          "metadata": {},
          "execution_count": 8
        }
      ]
    },
    {
      "cell_type": "code",
      "source": [
        "B = A = np.array([[0,2],\n",
        "                 [1,4]])\n",
        "A*B     # Hadamard Product"
      ],
      "metadata": {
        "colab": {
          "base_uri": "https://localhost:8080/"
        },
        "id": "s5sowryPevEa",
        "outputId": "3c602ce1-8925-4e56-e177-afbb87c3aa95"
      },
      "execution_count": 12,
      "outputs": [
        {
          "output_type": "execute_result",
          "data": {
            "text/plain": [
              "array([[ 0,  4],\n",
              "       [ 1, 16]])"
            ]
          },
          "metadata": {},
          "execution_count": 12
        }
      ]
    },
    {
      "cell_type": "code",
      "source": [
        "np.multiply(A,B)   # Multiplication of A and B"
      ],
      "metadata": {
        "colab": {
          "base_uri": "https://localhost:8080/"
        },
        "id": "wlHuhLRZfirl",
        "outputId": "466d7121-9342-43dc-c0a6-cffabc4d7f3e"
      },
      "execution_count": 13,
      "outputs": [
        {
          "output_type": "execute_result",
          "data": {
            "text/plain": [
              "array([[ 0,  4],\n",
              "       [ 1, 16]])"
            ]
          },
          "metadata": {},
          "execution_count": 13
        }
      ]
    },
    {
      "cell_type": "code",
      "source": [
        "#Gaussian Elemenation Method\n",
        "X = np.array([[1,3,5],[2,2,-1],[1,3,2]])\n",
        "Y = np.array([[-1],[1],[2]])\n",
        "print(X)\n",
        "print()\n",
        "print(Y)"
      ],
      "metadata": {
        "colab": {
          "base_uri": "https://localhost:8080/"
        },
        "id": "tKnBpwhLgOdM",
        "outputId": "a8a71a66-43df-4a85-c891-4e220163afa9"
      },
      "execution_count": 19,
      "outputs": [
        {
          "output_type": "stream",
          "name": "stdout",
          "text": [
            "[[ 1  3  5]\n",
            " [ 2  2 -1]\n",
            " [ 1  3  2]]\n",
            "\n",
            "[[-1]\n",
            " [ 1]\n",
            " [ 2]]\n"
          ]
        }
      ]
    },
    {
      "cell_type": "code",
      "source": [
        "solution = np.linalg.solve(X,Y)\n",
        "solution                          #In the code snippet you provided, `np.linalg.solve(X, Y)` is solving a system of linear equations. Here's what's happening:\n",
        "\n",
        "#1. `np` typically stands for NumPy, a popular library for numerical computing in Python.\n",
        "#2. `np.linalg.solve()` is a function from NumPy's linear algebra module (`np.linalg`). It is used to solve systems of linear equations.\n",
        "#3. `X` is the coefficient matrix of the system of linear equations.\n",
        "#4. `Y` is the constant vector in the system of linear equations.\n",
        "\n",
        "# The `solve()` function finds the solution to the system of linear equations represented by the equation `X * solution = Y`, where `X` is the coefficient matrix, `solution` is the unknown variable vector, and `Y` is the constant vector.\n",
        "\n",
        "# After calling `np.linalg.solve(X, Y)`, the variable `solution` will contain the solution to the system of linear equations represented by `X` and `Y`."
      ],
      "metadata": {
        "colab": {
          "base_uri": "https://localhost:8080/"
        },
        "id": "VIRj8wOWlc5o",
        "outputId": "1eabde3d-aafa-42e1-a6b4-fa539428e87f"
      },
      "execution_count": 22,
      "outputs": [
        {
          "output_type": "execute_result",
          "data": {
            "text/plain": [
              "array([[-2.],\n",
              "       [ 2.],\n",
              "       [-1.]])"
            ]
          },
          "metadata": {},
          "execution_count": 22
        }
      ]
    },
    {
      "cell_type": "code",
      "source": [
        "# Matrix Basis: A set of n Linearly independent column vectors with n elemnets forms a basis\n",
        "A = ([[1,0],[0,1]])  # Independent column vectors\n",
        "B = ([[1,0],[0,1],[1,1]])   # Sum of 1st and 2nd column is equal to 3rd column. Hence Dependent column Vectors"
      ],
      "metadata": {
        "id": "BWNxLyzLmU04"
      },
      "execution_count": null,
      "outputs": []
    }
  ]
}